{
 "cells": [
  {
   "cell_type": "code",
   "execution_count": 1,
   "metadata": {},
   "outputs": [],
   "source": [
    "import pandas as pd\n",
    "import requests\n",
    "from config import places_api\n",
    "from citipy import citipy\n",
    "import numpy as np\n",
    "from matplotlib import pyplot as plt\n",
    "import gmaps"
   ]
  },
  {
   "cell_type": "code",
   "execution_count": 6,
   "metadata": {},
   "outputs": [
    {
     "data": {
      "text/html": [
       "<div>\n",
       "<style scoped>\n",
       "    .dataframe tbody tr th:only-of-type {\n",
       "        vertical-align: middle;\n",
       "    }\n",
       "\n",
       "    .dataframe tbody tr th {\n",
       "        vertical-align: top;\n",
       "    }\n",
       "\n",
       "    .dataframe thead th {\n",
       "        text-align: right;\n",
       "    }\n",
       "</style>\n",
       "<table border=\"1\" class=\"dataframe\">\n",
       "  <thead>\n",
       "    <tr style=\"text-align: right;\">\n",
       "      <th></th>\n",
       "      <th>Unnamed: 0</th>\n",
       "      <th>City</th>\n",
       "      <th>lat</th>\n",
       "      <th>lon</th>\n",
       "      <th>temp_F</th>\n",
       "      <th>humidity</th>\n",
       "      <th>cloudiness</th>\n",
       "      <th>wind_mph</th>\n",
       "      <th>hemisphere</th>\n",
       "    </tr>\n",
       "  </thead>\n",
       "  <tbody>\n",
       "    <tr>\n",
       "      <th>0</th>\n",
       "      <td>0</td>\n",
       "      <td>Hilo</td>\n",
       "      <td>19.73</td>\n",
       "      <td>-155.09</td>\n",
       "      <td>70.39</td>\n",
       "      <td>88</td>\n",
       "      <td>90</td>\n",
       "      <td>3.36</td>\n",
       "      <td>northern_hem</td>\n",
       "    </tr>\n",
       "    <tr>\n",
       "      <th>1</th>\n",
       "      <td>1</td>\n",
       "      <td>Partizanskoye</td>\n",
       "      <td>55.50</td>\n",
       "      <td>94.39</td>\n",
       "      <td>45.41</td>\n",
       "      <td>91</td>\n",
       "      <td>100</td>\n",
       "      <td>3.71</td>\n",
       "      <td>northern_hem</td>\n",
       "    </tr>\n",
       "    <tr>\n",
       "      <th>2</th>\n",
       "      <td>2</td>\n",
       "      <td>Krasnosel'kup</td>\n",
       "      <td>65.70</td>\n",
       "      <td>82.47</td>\n",
       "      <td>38.71</td>\n",
       "      <td>85</td>\n",
       "      <td>58</td>\n",
       "      <td>8.30</td>\n",
       "      <td>northern_hem</td>\n",
       "    </tr>\n",
       "    <tr>\n",
       "      <th>3</th>\n",
       "      <td>3</td>\n",
       "      <td>Zaoyang</td>\n",
       "      <td>32.13</td>\n",
       "      <td>112.75</td>\n",
       "      <td>69.55</td>\n",
       "      <td>72</td>\n",
       "      <td>100</td>\n",
       "      <td>5.68</td>\n",
       "      <td>northern_hem</td>\n",
       "    </tr>\n",
       "    <tr>\n",
       "      <th>4</th>\n",
       "      <td>4</td>\n",
       "      <td>Carnarvon</td>\n",
       "      <td>-24.87</td>\n",
       "      <td>113.63</td>\n",
       "      <td>68.00</td>\n",
       "      <td>88</td>\n",
       "      <td>40</td>\n",
       "      <td>8.05</td>\n",
       "      <td>southern_hem</td>\n",
       "    </tr>\n",
       "  </tbody>\n",
       "</table>\n",
       "</div>"
      ],
      "text/plain": [
       "   Unnamed: 0           City    lat     lon  temp_F  humidity  cloudiness  \\\n",
       "0           0           Hilo  19.73 -155.09   70.39        88          90   \n",
       "1           1  Partizanskoye  55.50   94.39   45.41        91         100   \n",
       "2           2  Krasnosel'kup  65.70   82.47   38.71        85          58   \n",
       "3           3        Zaoyang  32.13  112.75   69.55        72         100   \n",
       "4           4      Carnarvon -24.87  113.63   68.00        88          40   \n",
       "\n",
       "   wind_mph    hemisphere  \n",
       "0      3.36  northern_hem  \n",
       "1      3.71  northern_hem  \n",
       "2      8.30  northern_hem  \n",
       "3      5.68  northern_hem  \n",
       "4      8.05  southern_hem  "
      ]
     },
     "execution_count": 6,
     "metadata": {},
     "output_type": "execute_result"
    }
   ],
   "source": [
    "df=pd.read_csv(\"weather.csv\")\n",
    "df.head()"
   ]
  },
  {
   "cell_type": "code",
   "execution_count": 7,
   "metadata": {},
   "outputs": [],
   "source": [
    "# creating lists of ideal places based on ideal varialbe\n",
    "\n",
    "ideal_temp=[]\n",
    "ideal_wind=[]\n",
    "ideal_clouds=[]\n",
    "\n",
    "for temp in df.temp_F:\n",
    "    if (temp < 80) and (temp >70):\n",
    "        ideal_temp.append(True)\n",
    "    else:\n",
    "        ideal_temp.append(False)\n",
    "        \n",
    "for wind in df.wind_mph:\n",
    "    if wind < 10:\n",
    "        ideal_wind.append(True)\n",
    "    else:\n",
    "        ideal_wind.append(False)\n",
    "\n",
    "for cloud in df.cloudiness:\n",
    "    if cloud ==0:\n",
    "        ideal_clouds.append(True)\n",
    "    else:\n",
    "        ideal_clouds.append(False)\n"
   ]
  },
  {
   "cell_type": "code",
   "execution_count": 63,
   "metadata": {},
   "outputs": [],
   "source": [
    "# creating dataframes from the ideal lists, merging for cities that are in all 3 lists\n",
    "\n",
    "ideal_temp_df=df[ideal_temp]\n",
    "ideal_wind_df=df[ideal_wind]\n",
    "ideal_clouds_df=df[ideal_clouds]\n",
    "\n",
    "ideal_con=pd.DataFrame.merge(ideal_temp_df,ideal_wind_df, how=\"inner\")\n",
    "ideal_conditions=pd.DataFrame.merge(ideal_con, ideal_clouds_df, how=\"inner\")"
   ]
  },
  {
   "cell_type": "code",
   "execution_count": 60,
   "metadata": {},
   "outputs": [
    {
     "data": {
      "text/html": [
       "<div>\n",
       "<style scoped>\n",
       "    .dataframe tbody tr th:only-of-type {\n",
       "        vertical-align: middle;\n",
       "    }\n",
       "\n",
       "    .dataframe tbody tr th {\n",
       "        vertical-align: top;\n",
       "    }\n",
       "\n",
       "    .dataframe thead th {\n",
       "        text-align: right;\n",
       "    }\n",
       "</style>\n",
       "<table border=\"1\" class=\"dataframe\">\n",
       "  <thead>\n",
       "    <tr style=\"text-align: right;\">\n",
       "      <th></th>\n",
       "      <th>City</th>\n",
       "      <th>lat</th>\n",
       "      <th>lon</th>\n",
       "      <th>temp_F</th>\n",
       "      <th>humidity</th>\n",
       "      <th>cloudiness</th>\n",
       "      <th>wind_mph</th>\n",
       "      <th>hemisphere</th>\n",
       "    </tr>\n",
       "  </thead>\n",
       "  <tbody>\n",
       "    <tr>\n",
       "      <th>0</th>\n",
       "      <td>Castro</td>\n",
       "      <td>-24.79</td>\n",
       "      <td>-50.01</td>\n",
       "      <td>78.22</td>\n",
       "      <td>34</td>\n",
       "      <td>0</td>\n",
       "      <td>3.58</td>\n",
       "      <td>southern_hem</td>\n",
       "    </tr>\n",
       "    <tr>\n",
       "      <th>1</th>\n",
       "      <td>Antsohihy</td>\n",
       "      <td>-14.88</td>\n",
       "      <td>47.99</td>\n",
       "      <td>72.93</td>\n",
       "      <td>64</td>\n",
       "      <td>0</td>\n",
       "      <td>3.62</td>\n",
       "      <td>southern_hem</td>\n",
       "    </tr>\n",
       "    <tr>\n",
       "      <th>2</th>\n",
       "      <td>Guerrero Negro</td>\n",
       "      <td>27.98</td>\n",
       "      <td>-114.06</td>\n",
       "      <td>79.97</td>\n",
       "      <td>47</td>\n",
       "      <td>0</td>\n",
       "      <td>9.84</td>\n",
       "      <td>northern_hem</td>\n",
       "    </tr>\n",
       "    <tr>\n",
       "      <th>3</th>\n",
       "      <td>Korla</td>\n",
       "      <td>41.76</td>\n",
       "      <td>86.15</td>\n",
       "      <td>71.01</td>\n",
       "      <td>73</td>\n",
       "      <td>0</td>\n",
       "      <td>1.99</td>\n",
       "      <td>northern_hem</td>\n",
       "    </tr>\n",
       "    <tr>\n",
       "      <th>4</th>\n",
       "      <td>Rūdbār</td>\n",
       "      <td>30.15</td>\n",
       "      <td>62.60</td>\n",
       "      <td>71.58</td>\n",
       "      <td>20</td>\n",
       "      <td>0</td>\n",
       "      <td>5.14</td>\n",
       "      <td>northern_hem</td>\n",
       "    </tr>\n",
       "    <tr>\n",
       "      <th>5</th>\n",
       "      <td>Viedma</td>\n",
       "      <td>-40.81</td>\n",
       "      <td>-63.00</td>\n",
       "      <td>75.00</td>\n",
       "      <td>35</td>\n",
       "      <td>0</td>\n",
       "      <td>5.01</td>\n",
       "      <td>southern_hem</td>\n",
       "    </tr>\n",
       "    <tr>\n",
       "      <th>6</th>\n",
       "      <td>Alyangula</td>\n",
       "      <td>-13.85</td>\n",
       "      <td>136.42</td>\n",
       "      <td>73.40</td>\n",
       "      <td>83</td>\n",
       "      <td>0</td>\n",
       "      <td>5.39</td>\n",
       "      <td>southern_hem</td>\n",
       "    </tr>\n",
       "    <tr>\n",
       "      <th>7</th>\n",
       "      <td>Mocuba</td>\n",
       "      <td>-16.84</td>\n",
       "      <td>36.99</td>\n",
       "      <td>76.73</td>\n",
       "      <td>54</td>\n",
       "      <td>0</td>\n",
       "      <td>7.87</td>\n",
       "      <td>southern_hem</td>\n",
       "    </tr>\n",
       "  </tbody>\n",
       "</table>\n",
       "</div>"
      ],
      "text/plain": [
       "             City    lat     lon  temp_F  humidity  cloudiness  wind_mph  \\\n",
       "0          Castro -24.79  -50.01   78.22        34           0      3.58   \n",
       "1       Antsohihy -14.88   47.99   72.93        64           0      3.62   \n",
       "2  Guerrero Negro  27.98 -114.06   79.97        47           0      9.84   \n",
       "3           Korla  41.76   86.15   71.01        73           0      1.99   \n",
       "4          Rūdbār  30.15   62.60   71.58        20           0      5.14   \n",
       "5          Viedma -40.81  -63.00   75.00        35           0      5.01   \n",
       "6       Alyangula -13.85  136.42   73.40        83           0      5.39   \n",
       "7          Mocuba -16.84   36.99   76.73        54           0      7.87   \n",
       "\n",
       "     hemisphere  \n",
       "0  southern_hem  \n",
       "1  southern_hem  \n",
       "2  northern_hem  \n",
       "3  northern_hem  \n",
       "4  northern_hem  \n",
       "5  southern_hem  \n",
       "6  southern_hem  \n",
       "7  southern_hem  "
      ]
     },
     "execution_count": 60,
     "metadata": {},
     "output_type": "execute_result"
    }
   ],
   "source": [
    "ideal_conditions=ideal_conditions.drop(\"Unnamed: 0\", axis=1)\n",
    "ideal_conditions"
   ]
  },
  {
   "cell_type": "code",
   "execution_count": 79,
   "metadata": {},
   "outputs": [
    {
     "data": {
      "text/plain": [
       "[(-24.79, -50.01),\n",
       " (-14.88, 47.99),\n",
       " (27.98, -114.06),\n",
       " (41.76, 86.15),\n",
       " (30.15, 62.6),\n",
       " (-40.81, -63.0),\n",
       " (-13.85, 136.42),\n",
       " (-16.84, 36.99)]"
      ]
     },
     "execution_count": 79,
     "metadata": {},
     "output_type": "execute_result"
    }
   ],
   "source": [
    "# list of coordinates of ideal destinations for For Loop\n",
    "coordinates=zip(ideal_conditions.lat,ideal_conditions.lon)\n",
    "coordinates=list(coordinates)\n",
    "\n",
    "coordinates"
   ]
  },
  {
   "cell_type": "code",
   "execution_count": 5,
   "metadata": {},
   "outputs": [
    {
     "data": {
      "text/plain": [
       "'CHACARA BAILLY'"
      ]
     },
     "execution_count": 5,
     "metadata": {},
     "output_type": "execute_result"
    }
   ],
   "source": [
    "url=\"https://maps.googleapis.com/maps/api/place/nearbysearch/json\"\n",
    "\n",
    "data=requests.get(url=url, params={\n",
    "    \"location\":\"-24.79, -50.01\",\n",
    "    \"radius\": 5000,\n",
    "    \"type\": \"lodging\",\n",
    "    \"key\": places_api\n",
    "}).json()\n",
    "castro_hotel=data['results'][0]['name']\n",
    "castro_hotel"
   ]
  },
  {
   "cell_type": "code",
   "execution_count": 6,
   "metadata": {},
   "outputs": [
    {
     "ename": "NameError",
     "evalue": "name 'coordinates' is not defined",
     "output_type": "error",
     "traceback": [
      "\u001b[0;31m---------------------------------------------------------------------------\u001b[0m",
      "\u001b[0;31mNameError\u001b[0m                                 Traceback (most recent call last)",
      "\u001b[0;32m<ipython-input-6-d07236bbc699>\u001b[0m in \u001b[0;36m<module>\u001b[0;34m\u001b[0m\n\u001b[1;32m      5\u001b[0m      \u001b[0;32mreturn\u001b[0m \u001b[0;34m{\u001b[0m\u001b[0mplaces\u001b[0m\u001b[0;34m[\u001b[0m\u001b[0;34m\"results\"\u001b[0m\u001b[0;34m]\u001b[0m\u001b[0;34m[\u001b[0m\u001b[0;34m\"name\"\u001b[0m\u001b[0;34m]\u001b[0m\u001b[0;34m}\u001b[0m\u001b[0;34m\u001b[0m\u001b[0;34m\u001b[0m\u001b[0m\n\u001b[1;32m      6\u001b[0m \u001b[0;34m\u001b[0m\u001b[0m\n\u001b[0;32m----> 7\u001b[0;31m \u001b[0;32mfor\u001b[0m \u001b[0mcoord\u001b[0m \u001b[0;32min\u001b[0m \u001b[0mcoordinates\u001b[0m\u001b[0;34m:\u001b[0m\u001b[0;34m\u001b[0m\u001b[0;34m\u001b[0m\u001b[0m\n\u001b[0m\u001b[1;32m      8\u001b[0m     data=requests.get(url=url, params={\n\u001b[1;32m      9\u001b[0m     \u001b[0;34m\"location\"\u001b[0m\u001b[0;34m:\u001b[0m \u001b[0mcoord\u001b[0m\u001b[0;34m,\u001b[0m\u001b[0;34m\u001b[0m\u001b[0;34m\u001b[0m\u001b[0m\n",
      "\u001b[0;31mNameError\u001b[0m: name 'coordinates' is not defined"
     ]
    }
   ],
   "source": [
    "\n",
    "\n",
    "url=\"https://maps.googleapis.com/maps/api/place/nearbysearch/json\"\n",
    "hotels=[]\n",
    "\n",
    "def extract_data(data):\n",
    "     return {places[\"results\"][\"name\"]}\n",
    "\n",
    "for coord in coordinates:\n",
    "    data=requests.get(url=url, params={\n",
    "    \"location\": coord,\n",
    "    \"radius\": 5000,\n",
    "    \"type\": \"lodging\",\n",
    "    \"key\": places_api\n",
    "    }).json()\n",
    "    \n",
    "    hotel_name=extract_data(data)\n",
    "    hotels.append(hotel_name)"
   ]
  },
  {
   "cell_type": "code",
   "execution_count": 7,
   "metadata": {},
   "outputs": [
    {
     "data": {
      "text/plain": [
       "[]"
      ]
     },
     "execution_count": 7,
     "metadata": {},
     "output_type": "execute_result"
    }
   ],
   "source": [
    "hotels"
   ]
  },
  {
   "cell_type": "code",
   "execution_count": 1,
   "metadata": {},
   "outputs": [
    {
     "data": {
      "text/plain": [
       "map"
      ]
     },
     "execution_count": 1,
     "metadata": {},
     "output_type": "execute_result"
    }
   ],
   "source": []
  },
  {
   "cell_type": "code",
   "execution_count": null,
   "metadata": {},
   "outputs": [],
   "source": []
  }
 ],
 "metadata": {
  "environment": {
   "name": "common-cpu.m54",
   "type": "gcloud",
   "uri": "gcr.io/deeplearning-platform-release/base-cpu:m54"
  },
  "kernelspec": {
   "display_name": "Python 3",
   "language": "python",
   "name": "python3"
  },
  "language_info": {
   "codemirror_mode": {
    "name": "ipython",
    "version": 3
   },
   "file_extension": ".py",
   "mimetype": "text/x-python",
   "name": "python",
   "nbconvert_exporter": "python",
   "pygments_lexer": "ipython3",
   "version": "3.7.8"
  }
 },
 "nbformat": 4,
 "nbformat_minor": 4
}
