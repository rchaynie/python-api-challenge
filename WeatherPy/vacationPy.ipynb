{
 "cells": [
  {
   "cell_type": "code",
   "execution_count": 2,
   "metadata": {},
   "outputs": [],
   "source": [
    "import pandas as pd\n",
    "import requests\n",
    "from config import places_api\n",
    "from citipy import citipy\n",
    "import numpy as np\n",
    "from matplotlib import pyplot as plt"
   ]
  },
  {
   "cell_type": "code",
   "execution_count": 3,
   "metadata": {},
   "outputs": [
    {
     "data": {
      "text/html": [
       "<div>\n",
       "<style scoped>\n",
       "    .dataframe tbody tr th:only-of-type {\n",
       "        vertical-align: middle;\n",
       "    }\n",
       "\n",
       "    .dataframe tbody tr th {\n",
       "        vertical-align: top;\n",
       "    }\n",
       "\n",
       "    .dataframe thead th {\n",
       "        text-align: right;\n",
       "    }\n",
       "</style>\n",
       "<table border=\"1\" class=\"dataframe\">\n",
       "  <thead>\n",
       "    <tr style=\"text-align: right;\">\n",
       "      <th></th>\n",
       "      <th>Unnamed: 0</th>\n",
       "      <th>City</th>\n",
       "      <th>lat</th>\n",
       "      <th>lon</th>\n",
       "      <th>temp_F</th>\n",
       "      <th>humidity</th>\n",
       "      <th>cloudiness</th>\n",
       "      <th>wind_mph</th>\n",
       "      <th>hemisphere</th>\n",
       "    </tr>\n",
       "  </thead>\n",
       "  <tbody>\n",
       "    <tr>\n",
       "      <th>0</th>\n",
       "      <td>0</td>\n",
       "      <td>Hilo</td>\n",
       "      <td>19.73</td>\n",
       "      <td>-155.09</td>\n",
       "      <td>70.39</td>\n",
       "      <td>88</td>\n",
       "      <td>90</td>\n",
       "      <td>3.36</td>\n",
       "      <td>northern_hem</td>\n",
       "    </tr>\n",
       "    <tr>\n",
       "      <th>1</th>\n",
       "      <td>1</td>\n",
       "      <td>Partizanskoye</td>\n",
       "      <td>55.50</td>\n",
       "      <td>94.39</td>\n",
       "      <td>45.41</td>\n",
       "      <td>91</td>\n",
       "      <td>100</td>\n",
       "      <td>3.71</td>\n",
       "      <td>northern_hem</td>\n",
       "    </tr>\n",
       "    <tr>\n",
       "      <th>2</th>\n",
       "      <td>2</td>\n",
       "      <td>Krasnosel'kup</td>\n",
       "      <td>65.70</td>\n",
       "      <td>82.47</td>\n",
       "      <td>38.71</td>\n",
       "      <td>85</td>\n",
       "      <td>58</td>\n",
       "      <td>8.30</td>\n",
       "      <td>northern_hem</td>\n",
       "    </tr>\n",
       "    <tr>\n",
       "      <th>3</th>\n",
       "      <td>3</td>\n",
       "      <td>Zaoyang</td>\n",
       "      <td>32.13</td>\n",
       "      <td>112.75</td>\n",
       "      <td>69.55</td>\n",
       "      <td>72</td>\n",
       "      <td>100</td>\n",
       "      <td>5.68</td>\n",
       "      <td>northern_hem</td>\n",
       "    </tr>\n",
       "    <tr>\n",
       "      <th>4</th>\n",
       "      <td>4</td>\n",
       "      <td>Carnarvon</td>\n",
       "      <td>-24.87</td>\n",
       "      <td>113.63</td>\n",
       "      <td>68.00</td>\n",
       "      <td>88</td>\n",
       "      <td>40</td>\n",
       "      <td>8.05</td>\n",
       "      <td>southern_hem</td>\n",
       "    </tr>\n",
       "  </tbody>\n",
       "</table>\n",
       "</div>"
      ],
      "text/plain": [
       "   Unnamed: 0           City    lat     lon  temp_F  humidity  cloudiness  \\\n",
       "0           0           Hilo  19.73 -155.09   70.39        88          90   \n",
       "1           1  Partizanskoye  55.50   94.39   45.41        91         100   \n",
       "2           2  Krasnosel'kup  65.70   82.47   38.71        85          58   \n",
       "3           3        Zaoyang  32.13  112.75   69.55        72         100   \n",
       "4           4      Carnarvon -24.87  113.63   68.00        88          40   \n",
       "\n",
       "   wind_mph    hemisphere  \n",
       "0      3.36  northern_hem  \n",
       "1      3.71  northern_hem  \n",
       "2      8.30  northern_hem  \n",
       "3      5.68  northern_hem  \n",
       "4      8.05  southern_hem  "
      ]
     },
     "execution_count": 3,
     "metadata": {},
     "output_type": "execute_result"
    }
   ],
   "source": [
    "df=pd.read_csv(\"weather_data.csv\")\n",
    "df.head()"
   ]
  },
  {
   "cell_type": "code",
   "execution_count": 4,
   "metadata": {},
   "outputs": [],
   "source": [
    "ideal_temp=[]\n",
    "ideal_wind=[]\n",
    "ideal_clouds=[]\n",
    "\n",
    "for temp in df.temp_F:\n",
    "    if (temp < 80) and (temp >70):\n",
    "        ideal_temp.append(True)\n",
    "    else:\n",
    "        ideal_temp.append(False)\n",
    "        \n",
    "for wind in df.wind_mph:\n",
    "    if wind < 10:\n",
    "        ideal_wind.append(True)\n",
    "    else:\n",
    "        ideal_wind.append(False)\n",
    "\n",
    "for cloud in df.cloudiness:\n",
    "    if cloud ==0:\n",
    "        ideal_clouds.append(True)\n",
    "    else:\n",
    "        ideal_clouds.append(False)\n"
   ]
  },
  {
   "cell_type": "code",
   "execution_count": 5,
   "metadata": {},
   "outputs": [],
   "source": [
    "ideal_temp_df=df[ideal_temp]\n",
    "ideal_wind_df=df[ideal_wind]\n",
    "ideal_clouds_df=df[ideal_clouds]\n",
    "\n",
    "ideal_con=pd.DataFrame.merge(ideal_temp_df,ideal_wind_df, how=\"inner\")\n",
    "ideal_conditions=pd.DataFrame.merge(ideal_con, ideal_clouds_df, how=\"inner\")"
   ]
  },
  {
   "cell_type": "code",
   "execution_count": 6,
   "metadata": {},
   "outputs": [],
   "source": [
    "ideal_conditions=ideal_conditions.drop(\"Unnamed: 0\", axis=1)"
   ]
  },
  {
   "cell_type": "code",
   "execution_count": 33,
   "metadata": {},
   "outputs": [
    {
     "data": {
      "text/plain": [
       "[(-24.79, -50.01),\n",
       " (-14.88, 47.99),\n",
       " (27.98, -114.06),\n",
       " (41.76, 86.15),\n",
       " (30.15, 62.6),\n",
       " (-40.81, -63.0),\n",
       " (-13.85, 136.42),\n",
       " (-16.84, 36.99)]"
      ]
     },
     "execution_count": 33,
     "metadata": {},
     "output_type": "execute_result"
    }
   ],
   "source": [
    "ideal_conditions\n",
    "\n",
    "coordinates=zip(ideal_conditions.lat,ideal_conditions.lon)\n",
    "coordinates=list(coordinates)\n",
    "coordinates"
   ]
  },
  {
   "cell_type": "code",
   "execution_count": 18,
   "metadata": {},
   "outputs": [],
   "source": [
    "url=\"https://maps.googleapis.com/maps/api/place/nearbysearch/json\"\n",
    "\n",
    "target_coordinates = \"-24.79, -50.01\"\n",
    "target_type=\"lodging\"\n",
    "\n",
    "\n",
    "places=requests.get(url=url, params={\n",
    "    \"location\": target_coordinates,\n",
    "    \"radius\": 5000,\n",
    "    \"type\": target_type,\n",
    "    \"key\": places_api\n",
    "}).json()\n"
   ]
  },
  {
   "cell_type": "code",
   "execution_count": 24,
   "metadata": {},
   "outputs": [
    {
     "data": {
      "text/plain": [
       "'CHACARA BAILLY'"
      ]
     },
     "execution_count": 24,
     "metadata": {},
     "output_type": "execute_result"
    }
   ],
   "source": [
    "places['results'][0]['name']"
   ]
  },
  {
   "cell_type": "code",
   "execution_count": null,
   "metadata": {},
   "outputs": [],
   "source": [
    "for city in coordinates:\n",
    "    requests.get(url=)"
   ]
  }
 ],
 "metadata": {
  "environment": {
   "name": "common-cpu.m54",
   "type": "gcloud",
   "uri": "gcr.io/deeplearning-platform-release/base-cpu:m54"
  },
  "kernelspec": {
   "display_name": "Python 3",
   "language": "python",
   "name": "python3"
  },
  "language_info": {
   "codemirror_mode": {
    "name": "ipython",
    "version": 3
   },
   "file_extension": ".py",
   "mimetype": "text/x-python",
   "name": "python",
   "nbconvert_exporter": "python",
   "pygments_lexer": "ipython3",
   "version": "3.7.8"
  }
 },
 "nbformat": 4,
 "nbformat_minor": 4
}
