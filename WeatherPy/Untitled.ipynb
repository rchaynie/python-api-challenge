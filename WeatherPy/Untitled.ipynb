{
 "cells": [
  {
   "cell_type": "code",
   "execution_count": 13,
   "metadata": {},
   "outputs": [],
   "source": [
    "import pandas as pd\n",
    "import requests\n",
    "from config import api_key\n",
    "\n",
    "url=\"http://api.openweathermap.org/data/2.5/weather\"\n",
    "\n"
   ]
  },
  {
   "cell_type": "code",
   "execution_count": 14,
   "metadata": {},
   "outputs": [],
   "source": [
    "r=requests.get(url=url, params={\n",
    "    \"q\": \"london\",\n",
    "    \"appid\":api_key\n",
    "    })"
   ]
  },
  {
   "cell_type": "code",
   "execution_count": 28,
   "metadata": {},
   "outputs": [
    {
     "data": {
      "text/plain": [
       "{'coord': {'lon': -0.13, 'lat': 51.51},\n",
       " 'weather': [{'id': 802,\n",
       "   'main': 'Clouds',\n",
       "   'description': 'scattered clouds',\n",
       "   'icon': '03d'}],\n",
       " 'base': 'stations',\n",
       " 'main': {'temp': 297.24,\n",
       "  'feels_like': 293.22,\n",
       "  'temp_min': 294.82,\n",
       "  'temp_max': 298.15,\n",
       "  'pressure': 1007,\n",
       "  'humidity': 36},\n",
       " 'visibility': 10000,\n",
       " 'wind': {'speed': 5.1, 'deg': 220},\n",
       " 'clouds': {'all': 36},\n",
       " 'dt': 1600787308,\n",
       " 'sys': {'type': 1,\n",
       "  'id': 1414,\n",
       "  'country': 'GB',\n",
       "  'sunrise': 1600753627,\n",
       "  'sunset': 1600797551},\n",
       " 'timezone': 3600,\n",
       " 'id': 2643743,\n",
       " 'name': 'London',\n",
       " 'cod': 200}"
      ]
     },
     "execution_count": 28,
     "metadata": {},
     "output_type": "execute_result"
    }
   ],
   "source": [
    "r.json()"
   ]
  },
  {
   "cell_type": "code",
   "execution_count": 49,
   "metadata": {},
   "outputs": [
    {
     "data": {
      "text/plain": [
       "{'City': 'name'}"
      ]
     },
     "execution_count": 49,
     "metadata": {},
     "output_type": "execute_result"
    }
   ],
   "source": [
    "cities=pd.read_csv(\"worldcities.csv\")\n",
    "\n",
    "name=cities[\"City\"]\n",
    "\n",
    "name=name[::30]\n",
    "\n",
    "city_list=name.head(500).reset_index(drop=True).to_frame().rename(columns\n",
    "    \"City\": \"name\"\n",
    "}\n",
    "\n",
    "city_list"
   ]
  },
  {
   "cell_type": "code",
   "execution_count": 34,
   "metadata": {},
   "outputs": [],
   "source": [
    "def extract(data):\n",
    "    return {\n",
    "        \"name\": data[\"name\"],\n",
    "        \"lat\": data[\"coord\"][\"lat\"],\n",
    "        \"lon\": data[\"coord\"][\"lon\"],\n",
    "        \"temp_k\": data[\"main\"][\"temp\"],\n",
    "        \"humidity\": data[\"main\"][\"humidity\"],\n",
    "        \"cloudiness\": data[\"clouds\"],\n",
    "        \"wind_speed_mph\": data[\"wind\"][\"speed\"]\n",
    "    }"
   ]
  },
  {
   "cell_type": "code",
   "execution_count": 35,
   "metadata": {},
   "outputs": [],
   "source": [
    "city_results=[]"
   ]
  },
  {
   "cell_type": "code",
   "execution_count": 39,
   "metadata": {},
   "outputs": [],
   "source": [
    "for city in city_list:\n",
    "    data=requests.get(url=url, params={\n",
    "        \"q\": city,\n",
    "        \"appid\":api_key\n",
    "    }).json()\n",
    "    \n",
    "    results=extract(data)\n",
    "    \n",
    "    city_results.append(results)"
   ]
  },
  {
   "cell_type": "code",
   "execution_count": 41,
   "metadata": {},
   "outputs": [
    {
     "data": {
      "text/plain": [
       "[{'name': 'City',\n",
       "  'lat': -35.28,\n",
       "  'lon': 149.13,\n",
       "  'temp_k': 281.52,\n",
       "  'humidity': 61,\n",
       "  'cloudiness': {'all': 40},\n",
       "  'wind_speed_mph': 4.6},\n",
       " {'name': 'City',\n",
       "  'lat': -35.28,\n",
       "  'lon': 149.13,\n",
       "  'temp_k': 281.52,\n",
       "  'humidity': 61,\n",
       "  'cloudiness': {'all': 40},\n",
       "  'wind_speed_mph': 4.6}]"
      ]
     },
     "execution_count": 41,
     "metadata": {},
     "output_type": "execute_result"
    }
   ],
   "source": [
    "city_results"
   ]
  },
  {
   "cell_type": "code",
   "execution_count": null,
   "metadata": {},
   "outputs": [],
   "source": []
  },
  {
   "cell_type": "code",
   "execution_count": null,
   "metadata": {},
   "outputs": [],
   "source": []
  },
  {
   "cell_type": "code",
   "execution_count": null,
   "metadata": {},
   "outputs": [],
   "source": []
  }
 ],
 "metadata": {
  "environment": {
   "name": "common-cpu.m54",
   "type": "gcloud",
   "uri": "gcr.io/deeplearning-platform-release/base-cpu:m54"
  },
  "kernelspec": {
   "display_name": "Python 3",
   "language": "python",
   "name": "python3"
  },
  "language_info": {
   "codemirror_mode": {
    "name": "ipython",
    "version": 3
   },
   "file_extension": ".py",
   "mimetype": "text/x-python",
   "name": "python",
   "nbconvert_exporter": "python",
   "pygments_lexer": "ipython3",
   "version": "3.7.8"
  }
 },
 "nbformat": 4,
 "nbformat_minor": 4
}
