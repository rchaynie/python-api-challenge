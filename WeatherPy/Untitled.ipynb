{
 "cells": [
  {
   "cell_type": "code",
   "execution_count": 8,
   "metadata": {},
   "outputs": [],
   "source": [
    "import pandas as pd\n",
    "import requests\n",
    "from config import api_key\n",
    "from citipy import citipy\n",
    "import numpy as np\n",
    "\n",
    "url=\"http://api.openweathermap.org/data/2.5/weather?\""
   ]
  },
  {
   "cell_type": "code",
   "execution_count": 9,
   "metadata": {},
   "outputs": [
    {
     "data": {
      "text/plain": [
       "598"
      ]
     },
     "execution_count": 9,
     "metadata": {},
     "output_type": "execute_result"
    }
   ],
   "source": [
    "cities=[]\n",
    "\n",
    "lats=np.random.uniform(high=-90, low=90, size=1500)\n",
    "lons=np.random.uniform(high=-180, low=180, size=1500)\n",
    "lats_lons=zip(lats,lons)\n",
    "for value in lats_lons:\n",
    "    city=citipy.nearest_city(value[0],value[1]).city_name\n",
    "    if city not in cities:\n",
    "        cities.append(city)\n",
    "        \n",
    "len(cities)"
   ]
  },
  {
   "cell_type": "code",
   "execution_count": 10,
   "metadata": {},
   "outputs": [],
   "source": [
    "r=requests.get(url=url, params={\n",
    "    \"q\": \"London\",\n",
    "    \"appid\":api_key\n",
    "    }).json()"
   ]
  },
  {
   "cell_type": "code",
   "execution_count": 11,
   "metadata": {},
   "outputs": [
    {
     "data": {
      "text/plain": [
       "{'coord': {'lon': -0.13, 'lat': 51.51},\n",
       " 'weather': [{'id': 803,\n",
       "   'main': 'Clouds',\n",
       "   'description': 'broken clouds',\n",
       "   'icon': '04n'}],\n",
       " 'base': 'stations',\n",
       " 'main': {'temp': 283.56,\n",
       "  'feels_like': 277.68,\n",
       "  'temp_min': 282.59,\n",
       "  'temp_max': 285.15,\n",
       "  'pressure': 999,\n",
       "  'humidity': 76},\n",
       " 'visibility': 10000,\n",
       " 'wind': {'speed': 7.2, 'deg': 260},\n",
       " 'clouds': {'all': 75},\n",
       " 'dt': 1600902394,\n",
       " 'sys': {'type': 1,\n",
       "  'id': 1414,\n",
       "  'country': 'GB',\n",
       "  'sunrise': 1600926619,\n",
       "  'sunset': 1600970073},\n",
       " 'timezone': 3600,\n",
       " 'id': 2643743,\n",
       " 'name': 'London',\n",
       " 'cod': 200}"
      ]
     },
     "execution_count": 11,
     "metadata": {},
     "output_type": "execute_result"
    }
   ],
   "source": [
    "r"
   ]
  },
  {
   "cell_type": "code",
   "execution_count": 89,
   "metadata": {},
   "outputs": [
    {
     "data": {
      "text/plain": [
       "4573                   Deseronto\n",
       "35700              Divnomorskoye\n",
       "33210                      Gruiu\n",
       "22613                       Auce\n",
       "29335                    Palagao\n",
       "                  ...           \n",
       "37450                Oktyabrskiy\n",
       "27484                     Bolboc\n",
       "41432                   Ladyzhyn\n",
       "8326     Trebechovice Pod Orebem\n",
       "35539                      Butka\n",
       "Name: City, Length: 550, dtype: object"
      ]
     },
     "execution_count": 89,
     "metadata": {},
     "output_type": "execute_result"
    }
   ],
   "source": [
    "# cities=pd.read_csv(\"worldcities.csv\")\n",
    "# # city=cities[\"City\"]\n",
    "# city=cities[['City']].sample(550)\n",
    "# # city_list=city.head(500)\n",
    "# city_list=city[\"City\"]\n",
    "# city_list.str.title()"
   ]
  },
  {
   "cell_type": "code",
   "execution_count": 90,
   "metadata": {},
   "outputs": [],
   "source": [
    "# def extract(data):\n",
    "#     return {\n",
    "#         \"city\": data[\"name\"],\n",
    "#         \"lat\": data[\"coord\"][\"lat\"],\n",
    "#         \"lon\": data[\"coord\"][\"lon\"],\n",
    "#         \"temp_k\": data[\"main\"][\"temp\"],\n",
    "#         \"humidity\": data[\"main\"][\"humidity\"],\n",
    "#         \"cloudiness\": data[\"clouds\"],\n",
    "#         \"wind_speed_mph\": data[\"wind\"][\"speed\"]\n",
    "#     }"
   ]
  },
  {
   "cell_type": "code",
   "execution_count": 12,
   "metadata": {},
   "outputs": [],
   "source": [
    "# city_results=[]\n",
    "units=\"imperial\""
   ]
  },
  {
   "cell_type": "code",
   "execution_count": 13,
   "metadata": {},
   "outputs": [
    {
     "name": "stdout",
     "output_type": "stream",
     "text": [
      "http://api.openweathermap.org/data/2.5/weather?appid=00adad221a4a334ddbbdcc7652023fdd&units=imperial&q=\n"
     ]
    }
   ],
   "source": [
    "query_url = url + \"appid=\" + api_key + \"&units=\" + units+\"&q=\" \n",
    "\n",
    "# query_url=url + params={\n",
    "#     \"q\": \"London\",\n",
    "#     \"appid\":api_key\n",
    "#     }).json()\n",
    "print(query_url)"
   ]
  },
  {
   "cell_type": "code",
   "execution_count": 20,
   "metadata": {},
   "outputs": [],
   "source": [
    "num =1\n",
    "city_name=[]\n",
    "lat=[]\n",
    "lon=[]\n",
    "temp=[]\n",
    "humidity=[]\n",
    "cloudiness=[]\n",
    "wind=[]\n",
    "for city in cities:\n",
    "\n",
    "    try:\n",
    "        data=(requests.get(query_url+ city)).json()\n",
    "        city_name.append(data[\"name\"])\n",
    "        lat.append(data[\"coord\"][\"lat\"])\n",
    "        lon.append(data[\"coord\"][\"lon\"])\n",
    "        temp.append(data[\"main\"][\"temp\"])\n",
    "        humidity.append(data[\"main\"][\"humidity\"])\n",
    "        cloudiness.append(data[\"clouds\"][\"all\"])\n",
    "        wind.append(data[\"wind\"][\"speed\"])\n",
    "       \n",
    "        \n",
    "        num = num+1\n",
    "        \n",
    "    except KeyError:\n",
    "        \n",
    "        num= num+1"
   ]
  },
  {
   "cell_type": "code",
   "execution_count": 21,
   "metadata": {},
   "outputs": [
    {
     "data": {
      "text/html": [
       "<div>\n",
       "<style scoped>\n",
       "    .dataframe tbody tr th:only-of-type {\n",
       "        vertical-align: middle;\n",
       "    }\n",
       "\n",
       "    .dataframe tbody tr th {\n",
       "        vertical-align: top;\n",
       "    }\n",
       "\n",
       "    .dataframe thead th {\n",
       "        text-align: right;\n",
       "    }\n",
       "</style>\n",
       "<table border=\"1\" class=\"dataframe\">\n",
       "  <thead>\n",
       "    <tr style=\"text-align: right;\">\n",
       "      <th></th>\n",
       "      <th>City</th>\n",
       "      <th>lat</th>\n",
       "      <th>lon</th>\n",
       "      <th>temp_k</th>\n",
       "      <th>humidity</th>\n",
       "      <th>cloudiness</th>\n",
       "      <th>wind_mph</th>\n",
       "    </tr>\n",
       "  </thead>\n",
       "  <tbody>\n",
       "    <tr>\n",
       "      <th>0</th>\n",
       "      <td>Ola</td>\n",
       "      <td>59.58</td>\n",
       "      <td>151.28</td>\n",
       "      <td>46.15</td>\n",
       "      <td>57</td>\n",
       "      <td>38</td>\n",
       "      <td>8.84</td>\n",
       "    </tr>\n",
       "    <tr>\n",
       "      <th>1</th>\n",
       "      <td>Saint-Pierre</td>\n",
       "      <td>-21.34</td>\n",
       "      <td>55.48</td>\n",
       "      <td>58.23</td>\n",
       "      <td>55</td>\n",
       "      <td>0</td>\n",
       "      <td>8.05</td>\n",
       "    </tr>\n",
       "    <tr>\n",
       "      <th>2</th>\n",
       "      <td>Bredasdorp</td>\n",
       "      <td>-34.53</td>\n",
       "      <td>20.04</td>\n",
       "      <td>44.60</td>\n",
       "      <td>93</td>\n",
       "      <td>0</td>\n",
       "      <td>4.70</td>\n",
       "    </tr>\n",
       "    <tr>\n",
       "      <th>3</th>\n",
       "      <td>Adrar</td>\n",
       "      <td>20.50</td>\n",
       "      <td>-10.07</td>\n",
       "      <td>97.39</td>\n",
       "      <td>19</td>\n",
       "      <td>78</td>\n",
       "      <td>15.35</td>\n",
       "    </tr>\n",
       "    <tr>\n",
       "      <th>4</th>\n",
       "      <td>Punta Arenas</td>\n",
       "      <td>-53.15</td>\n",
       "      <td>-70.92</td>\n",
       "      <td>48.96</td>\n",
       "      <td>57</td>\n",
       "      <td>75</td>\n",
       "      <td>35.57</td>\n",
       "    </tr>\n",
       "  </tbody>\n",
       "</table>\n",
       "</div>"
      ],
      "text/plain": [
       "           City    lat     lon  temp_k  humidity  cloudiness  wind_mph\n",
       "0           Ola  59.58  151.28   46.15        57          38      8.84\n",
       "1  Saint-Pierre -21.34   55.48   58.23        55           0      8.05\n",
       "2    Bredasdorp -34.53   20.04   44.60        93           0      4.70\n",
       "3         Adrar  20.50  -10.07   97.39        19          78     15.35\n",
       "4  Punta Arenas -53.15  -70.92   48.96        57          75     35.57"
      ]
     },
     "execution_count": 21,
     "metadata": {},
     "output_type": "execute_result"
    }
   ],
   "source": [
    "# city_name\n",
    "# lat=[]\n",
    "# lon=[]\n",
    "# temp=[]\n",
    "# humidity=[]\n",
    "# cloudiness=[]\n",
    "# wind=[]\n",
    "\n",
    "df=pd.DataFrame({\n",
    "    \"City\": city_name,\n",
    "    \"lat\": lat,\n",
    "    \"lon\": lon,\n",
    "    \"temp_k\": temp,\n",
    "    \"humidity\": humidity,\n",
    "    \"cloudiness\": cloudiness,\n",
    "    \"wind_mph\": wind\n",
    "})\n",
    "df.head()"
   ]
  },
  {
   "cell_type": "code",
   "execution_count": null,
   "metadata": {},
   "outputs": [],
   "source": []
  },
  {
   "cell_type": "code",
   "execution_count": null,
   "metadata": {},
   "outputs": [],
   "source": []
  },
  {
   "cell_type": "code",
   "execution_count": null,
   "metadata": {},
   "outputs": [],
   "source": []
  }
 ],
 "metadata": {
  "environment": {
   "name": "common-cpu.m54",
   "type": "gcloud",
   "uri": "gcr.io/deeplearning-platform-release/base-cpu:m54"
  },
  "kernelspec": {
   "display_name": "Python 3",
   "language": "python",
   "name": "python3"
  },
  "language_info": {
   "codemirror_mode": {
    "name": "ipython",
    "version": 3
   },
   "file_extension": ".py",
   "mimetype": "text/x-python",
   "name": "python",
   "nbconvert_exporter": "python",
   "pygments_lexer": "ipython3",
   "version": "3.7.8"
  }
 },
 "nbformat": 4,
 "nbformat_minor": 4
}
